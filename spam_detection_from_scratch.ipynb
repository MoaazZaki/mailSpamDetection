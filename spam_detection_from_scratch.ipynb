{
  "nbformat": 4,
  "nbformat_minor": 0,
  "metadata": {
    "colab": {
      "name": "spam-detection-from-scratch.ipynb",
      "provenance": [],
      "collapsed_sections": [
        "JAIJxxtfSrKD",
        "3nER_gEsSzGE",
        "dYUivwBMeJSX",
        "bUGogVZ_iIhT",
        "rFuwDRAg_JaT",
        "q5yw46pI-h-O"
      ]
    },
    "kernelspec": {
      "display_name": "Python 3",
      "name": "python3"
    },
    "language_info": {
      "name": "python"
    }
  },
  "cells": [
    {
      "cell_type": "markdown",
      "metadata": {
        "id": "q5tQykJdSeRi"
      },
      "source": [
        "# Essentials\n"
      ]
    },
    {
      "cell_type": "code",
      "metadata": {
        "colab": {
          "base_uri": "https://localhost:8080/"
        },
        "id": "uuEltSjrT7wQ",
        "outputId": "6f648f7c-43af-4cd3-9291-2793e7f8bac8"
      },
      "source": [
        "# Assesting libraries\n",
        "import numpy as np\n",
        "import pandas as pd\n",
        "import matplotlib.pyplot as plt\n",
        "import seaborn as sns\n",
        "from sklearn.model_selection import train_test_split\n",
        "\n",
        "# Implemented modules\n",
        "from preprocessing import preprocess_df\n",
        "from FE import Vocabulary\n",
        "from models import MNB\n",
        "from utils import get_accuracy\n",
        "from utils import analyze_result\n",
        "from utils import plot_cunfusion_matrix"
      ],
      "execution_count": 1,
      "outputs": [
        {
          "output_type": "stream",
          "text": [
            "[nltk_data] Downloading package punkt to /root/nltk_data...\n",
            "[nltk_data]   Package punkt is already up-to-date!\n",
            "[nltk_data] Downloading package stopwords to /root/nltk_data...\n",
            "[nltk_data]   Package stopwords is already up-to-date!\n",
            "[nltk_data] Downloading package wordnet to /root/nltk_data...\n",
            "[nltk_data]   Package wordnet is already up-to-date!\n"
          ],
          "name": "stdout"
        }
      ]
    },
    {
      "cell_type": "code",
      "metadata": {
        "id": "D8xvJ8cxSWwX"
      },
      "source": [
        "#Files\n",
        "SPAM_HAM_FILE = '/content/drive/MyDrive/MI_NLP_Exercise/datasets/spam_ham_dataset.csv'\n",
        "SPAM_ASSASIN_FILE = '/content/drive/MyDrive/MI_NLP_Exercise/datasets/completeSpamAssassin.csv'\n",
        "SPAM_LING_FILE = '/content/drive/MyDrive/MI_NLP_Exercise/datasets/lingSpam.csv'\n",
        "SPAM_ENRON_FILE = '/content/drive/MyDrive/MI_NLP_Exercise/datasets/enronSpamSubset.csv'\n",
        "\n",
        "#Constants\n",
        "MAX_VOCAB_SIZE = 50000\n",
        "EMBEDDING_DIM = 5000\n",
        "DELTA = 1e-12\n",
        "BETA = 1e-6\n",
        "GAMMA = 1e-3"
      ],
      "execution_count": 2,
      "outputs": []
    },
    {
      "cell_type": "markdown",
      "metadata": {
        "id": "JAIJxxtfSrKD"
      },
      "source": [
        "# Dataset Importing"
      ]
    },
    {
      "cell_type": "code",
      "metadata": {
        "colab": {
          "base_uri": "https://localhost:8080/",
          "height": 0
        },
        "id": "pWBcRjxRXr3Q",
        "outputId": "94fe3bed-e504-4f76-ca02-670e601c3edb"
      },
      "source": [
        "ham_df = pd.read_csv(SPAM_HAM_FILE).drop(['Unnamed: 0','label'],axis=1).rename(columns={'text':'Body','label_num':'Spam'})\n",
        "assasin_df = pd.read_csv(SPAM_ASSASIN_FILE).drop(['Unnamed: 0'],axis=1).rename(columns={'Label':'Spam'})\n",
        "ling_df = pd.read_csv(SPAM_LING_FILE).drop(['Unnamed: 0'],axis=1).rename(columns={'Label':'Spam'})\n",
        "enron_df = pd.read_csv(SPAM_ENRON_FILE).drop(['Unnamed: 0','Unnamed: 0.1'],axis=1).rename(columns={'Label':'Spam'})\n",
        "ham_df"
      ],
      "execution_count": 3,
      "outputs": [
        {
          "output_type": "execute_result",
          "data": {
            "text/html": [
              "<div>\n",
              "<style scoped>\n",
              "    .dataframe tbody tr th:only-of-type {\n",
              "        vertical-align: middle;\n",
              "    }\n",
              "\n",
              "    .dataframe tbody tr th {\n",
              "        vertical-align: top;\n",
              "    }\n",
              "\n",
              "    .dataframe thead th {\n",
              "        text-align: right;\n",
              "    }\n",
              "</style>\n",
              "<table border=\"1\" class=\"dataframe\">\n",
              "  <thead>\n",
              "    <tr style=\"text-align: right;\">\n",
              "      <th></th>\n",
              "      <th>Body</th>\n",
              "      <th>Spam</th>\n",
              "    </tr>\n",
              "  </thead>\n",
              "  <tbody>\n",
              "    <tr>\n",
              "      <th>0</th>\n",
              "      <td>Subject: enron methanol ; meter # : 988291\\r\\n...</td>\n",
              "      <td>0</td>\n",
              "    </tr>\n",
              "    <tr>\n",
              "      <th>1</th>\n",
              "      <td>Subject: hpl nom for january 9 , 2001\\r\\n( see...</td>\n",
              "      <td>0</td>\n",
              "    </tr>\n",
              "    <tr>\n",
              "      <th>2</th>\n",
              "      <td>Subject: neon retreat\\r\\nho ho ho , we ' re ar...</td>\n",
              "      <td>0</td>\n",
              "    </tr>\n",
              "    <tr>\n",
              "      <th>3</th>\n",
              "      <td>Subject: photoshop , windows , office . cheap ...</td>\n",
              "      <td>1</td>\n",
              "    </tr>\n",
              "    <tr>\n",
              "      <th>4</th>\n",
              "      <td>Subject: re : indian springs\\r\\nthis deal is t...</td>\n",
              "      <td>0</td>\n",
              "    </tr>\n",
              "    <tr>\n",
              "      <th>...</th>\n",
              "      <td>...</td>\n",
              "      <td>...</td>\n",
              "    </tr>\n",
              "    <tr>\n",
              "      <th>5166</th>\n",
              "      <td>Subject: put the 10 on the ft\\r\\nthe transport...</td>\n",
              "      <td>0</td>\n",
              "    </tr>\n",
              "    <tr>\n",
              "      <th>5167</th>\n",
              "      <td>Subject: 3 / 4 / 2000 and following noms\\r\\nhp...</td>\n",
              "      <td>0</td>\n",
              "    </tr>\n",
              "    <tr>\n",
              "      <th>5168</th>\n",
              "      <td>Subject: calpine daily gas nomination\\r\\n&gt;\\r\\n...</td>\n",
              "      <td>0</td>\n",
              "    </tr>\n",
              "    <tr>\n",
              "      <th>5169</th>\n",
              "      <td>Subject: industrial worksheets for august 2000...</td>\n",
              "      <td>0</td>\n",
              "    </tr>\n",
              "    <tr>\n",
              "      <th>5170</th>\n",
              "      <td>Subject: important online banking alert\\r\\ndea...</td>\n",
              "      <td>1</td>\n",
              "    </tr>\n",
              "  </tbody>\n",
              "</table>\n",
              "<p>5171 rows × 2 columns</p>\n",
              "</div>"
            ],
            "text/plain": [
              "                                                   Body  Spam\n",
              "0     Subject: enron methanol ; meter # : 988291\\r\\n...     0\n",
              "1     Subject: hpl nom for january 9 , 2001\\r\\n( see...     0\n",
              "2     Subject: neon retreat\\r\\nho ho ho , we ' re ar...     0\n",
              "3     Subject: photoshop , windows , office . cheap ...     1\n",
              "4     Subject: re : indian springs\\r\\nthis deal is t...     0\n",
              "...                                                 ...   ...\n",
              "5166  Subject: put the 10 on the ft\\r\\nthe transport...     0\n",
              "5167  Subject: 3 / 4 / 2000 and following noms\\r\\nhp...     0\n",
              "5168  Subject: calpine daily gas nomination\\r\\n>\\r\\n...     0\n",
              "5169  Subject: industrial worksheets for august 2000...     0\n",
              "5170  Subject: important online banking alert\\r\\ndea...     1\n",
              "\n",
              "[5171 rows x 2 columns]"
            ]
          },
          "metadata": {
            "tags": []
          },
          "execution_count": 3
        }
      ]
    },
    {
      "cell_type": "markdown",
      "metadata": {
        "id": "3nER_gEsSzGE"
      },
      "source": [
        "# Preprocessing"
      ]
    },
    {
      "cell_type": "code",
      "metadata": {
        "colab": {
          "base_uri": "https://localhost:8080/",
          "height": 0
        },
        "id": "f-oLRw6CY8rb",
        "outputId": "75980642-e6d4-4647-bb2a-ae93dbe0a4e6"
      },
      "source": [
        "df = preprocess_df(assasin_df,'Body','Spam')\n",
        "df"
      ],
      "execution_count": 4,
      "outputs": [
        {
          "output_type": "execute_result",
          "data": {
            "text/html": [
              "<div>\n",
              "<style scoped>\n",
              "    .dataframe tbody tr th:only-of-type {\n",
              "        vertical-align: middle;\n",
              "    }\n",
              "\n",
              "    .dataframe tbody tr th {\n",
              "        vertical-align: top;\n",
              "    }\n",
              "\n",
              "    .dataframe thead th {\n",
              "        text-align: right;\n",
              "    }\n",
              "</style>\n",
              "<table border=\"1\" class=\"dataframe\">\n",
              "  <thead>\n",
              "    <tr style=\"text-align: right;\">\n",
              "      <th></th>\n",
              "      <th>Body</th>\n",
              "      <th>Spam</th>\n",
              "    </tr>\n",
              "  </thead>\n",
              "  <tbody>\n",
              "    <tr>\n",
              "      <th>0</th>\n",
              "      <td>[save, 70, life, insur, spend, life, quot, sav...</td>\n",
              "      <td>1</td>\n",
              "    </tr>\n",
              "    <tr>\n",
              "      <th>1</th>\n",
              "      <td>[1, fight, risk, cancer, slim, guarante, lose,...</td>\n",
              "      <td>1</td>\n",
              "    </tr>\n",
              "    <tr>\n",
              "      <th>2</th>\n",
              "      <td>[1, fight, risk, cancer, slim, guarante, lose,...</td>\n",
              "      <td>1</td>\n",
              "    </tr>\n",
              "    <tr>\n",
              "      <th>3</th>\n",
              "      <td>[adult, club, offer, free, membership, instant...</td>\n",
              "      <td>1</td>\n",
              "    </tr>\n",
              "    <tr>\n",
              "      <th>4</th>\n",
              "      <td>[thought, might, like, 1, slim, guarante, lose...</td>\n",
              "      <td>1</td>\n",
              "    </tr>\n",
              "    <tr>\n",
              "      <th>...</th>\n",
              "      <td>...</td>\n",
              "      <td>...</td>\n",
              "    </tr>\n",
              "    <tr>\n",
              "      <th>6033</th>\n",
              "      <td>[1, isilo, tm, 3, 25, palm, os, pocket, pc, wi...</td>\n",
              "      <td>0</td>\n",
              "    </tr>\n",
              "    <tr>\n",
              "      <th>6034</th>\n",
              "      <td>[effector, vol, 15, 35, novemb, 8, 2002, ren, ...</td>\n",
              "      <td>0</td>\n",
              "    </tr>\n",
              "    <tr>\n",
              "      <th>6039</th>\n",
              "      <td>[extend, free, seat, sale, thursday, 21st, nov...</td>\n",
              "      <td>0</td>\n",
              "    </tr>\n",
              "    <tr>\n",
              "      <th>6042</th>\n",
              "      <td>[one, ten, 27, 11, 02, insignific, matter, hea...</td>\n",
              "      <td>0</td>\n",
              "    </tr>\n",
              "    <tr>\n",
              "      <th>6043</th>\n",
              "      <td>[issu, 01, reader, write, 02, extens, search, ...</td>\n",
              "      <td>0</td>\n",
              "    </tr>\n",
              "  </tbody>\n",
              "</table>\n",
              "<p>5294 rows × 2 columns</p>\n",
              "</div>"
            ],
            "text/plain": [
              "                                                   Body  Spam\n",
              "0     [save, 70, life, insur, spend, life, quot, sav...     1\n",
              "1     [1, fight, risk, cancer, slim, guarante, lose,...     1\n",
              "2     [1, fight, risk, cancer, slim, guarante, lose,...     1\n",
              "3     [adult, club, offer, free, membership, instant...     1\n",
              "4     [thought, might, like, 1, slim, guarante, lose...     1\n",
              "...                                                 ...   ...\n",
              "6033  [1, isilo, tm, 3, 25, palm, os, pocket, pc, wi...     0\n",
              "6034  [effector, vol, 15, 35, novemb, 8, 2002, ren, ...     0\n",
              "6039  [extend, free, seat, sale, thursday, 21st, nov...     0\n",
              "6042  [one, ten, 27, 11, 02, insignific, matter, hea...     0\n",
              "6043  [issu, 01, reader, write, 02, extens, search, ...     0\n",
              "\n",
              "[5294 rows x 2 columns]"
            ]
          },
          "metadata": {
            "tags": []
          },
          "execution_count": 4
        }
      ]
    },
    {
      "cell_type": "code",
      "metadata": {
        "colab": {
          "base_uri": "https://localhost:8080/",
          "height": 0
        },
        "id": "nmEyfARmYi7M",
        "outputId": "63feb198-78bb-485f-a9a8-7448408b80fa"
      },
      "source": [
        "df['mail_length'] = df['Body'].apply(lambda x: len(x))\n",
        "df"
      ],
      "execution_count": 5,
      "outputs": [
        {
          "output_type": "execute_result",
          "data": {
            "text/html": [
              "<div>\n",
              "<style scoped>\n",
              "    .dataframe tbody tr th:only-of-type {\n",
              "        vertical-align: middle;\n",
              "    }\n",
              "\n",
              "    .dataframe tbody tr th {\n",
              "        vertical-align: top;\n",
              "    }\n",
              "\n",
              "    .dataframe thead th {\n",
              "        text-align: right;\n",
              "    }\n",
              "</style>\n",
              "<table border=\"1\" class=\"dataframe\">\n",
              "  <thead>\n",
              "    <tr style=\"text-align: right;\">\n",
              "      <th></th>\n",
              "      <th>Body</th>\n",
              "      <th>Spam</th>\n",
              "      <th>mail_length</th>\n",
              "    </tr>\n",
              "  </thead>\n",
              "  <tbody>\n",
              "    <tr>\n",
              "      <th>0</th>\n",
              "      <td>[save, 70, life, insur, spend, life, quot, sav...</td>\n",
              "      <td>1</td>\n",
              "      <td>97</td>\n",
              "    </tr>\n",
              "    <tr>\n",
              "      <th>1</th>\n",
              "      <td>[1, fight, risk, cancer, slim, guarante, lose,...</td>\n",
              "      <td>1</td>\n",
              "      <td>56</td>\n",
              "    </tr>\n",
              "    <tr>\n",
              "      <th>2</th>\n",
              "      <td>[1, fight, risk, cancer, slim, guarante, lose,...</td>\n",
              "      <td>1</td>\n",
              "      <td>41</td>\n",
              "    </tr>\n",
              "    <tr>\n",
              "      <th>3</th>\n",
              "      <td>[adult, club, offer, free, membership, instant...</td>\n",
              "      <td>1</td>\n",
              "      <td>221</td>\n",
              "    </tr>\n",
              "    <tr>\n",
              "      <th>4</th>\n",
              "      <td>[thought, might, like, 1, slim, guarante, lose...</td>\n",
              "      <td>1</td>\n",
              "      <td>49</td>\n",
              "    </tr>\n",
              "    <tr>\n",
              "      <th>...</th>\n",
              "      <td>...</td>\n",
              "      <td>...</td>\n",
              "      <td>...</td>\n",
              "    </tr>\n",
              "    <tr>\n",
              "      <th>6033</th>\n",
              "      <td>[1, isilo, tm, 3, 25, palm, os, pocket, pc, wi...</td>\n",
              "      <td>0</td>\n",
              "      <td>930</td>\n",
              "    </tr>\n",
              "    <tr>\n",
              "      <th>6034</th>\n",
              "      <td>[effector, vol, 15, 35, novemb, 8, 2002, ren, ...</td>\n",
              "      <td>0</td>\n",
              "      <td>894</td>\n",
              "    </tr>\n",
              "    <tr>\n",
              "      <th>6039</th>\n",
              "      <td>[extend, free, seat, sale, thursday, 21st, nov...</td>\n",
              "      <td>0</td>\n",
              "      <td>291</td>\n",
              "    </tr>\n",
              "    <tr>\n",
              "      <th>6042</th>\n",
              "      <td>[one, ten, 27, 11, 02, insignific, matter, hea...</td>\n",
              "      <td>0</td>\n",
              "      <td>1384</td>\n",
              "    </tr>\n",
              "    <tr>\n",
              "      <th>6043</th>\n",
              "      <td>[issu, 01, reader, write, 02, extens, search, ...</td>\n",
              "      <td>0</td>\n",
              "      <td>650</td>\n",
              "    </tr>\n",
              "  </tbody>\n",
              "</table>\n",
              "<p>5294 rows × 3 columns</p>\n",
              "</div>"
            ],
            "text/plain": [
              "                                                   Body  Spam  mail_length\n",
              "0     [save, 70, life, insur, spend, life, quot, sav...     1           97\n",
              "1     [1, fight, risk, cancer, slim, guarante, lose,...     1           56\n",
              "2     [1, fight, risk, cancer, slim, guarante, lose,...     1           41\n",
              "3     [adult, club, offer, free, membership, instant...     1          221\n",
              "4     [thought, might, like, 1, slim, guarante, lose...     1           49\n",
              "...                                                 ...   ...          ...\n",
              "6033  [1, isilo, tm, 3, 25, palm, os, pocket, pc, wi...     0          930\n",
              "6034  [effector, vol, 15, 35, novemb, 8, 2002, ren, ...     0          894\n",
              "6039  [extend, free, seat, sale, thursday, 21st, nov...     0          291\n",
              "6042  [one, ten, 27, 11, 02, insignific, matter, hea...     0         1384\n",
              "6043  [issu, 01, reader, write, 02, extens, search, ...     0          650\n",
              "\n",
              "[5294 rows x 3 columns]"
            ]
          },
          "metadata": {
            "tags": []
          },
          "execution_count": 5
        }
      ]
    },
    {
      "cell_type": "markdown",
      "metadata": {
        "id": "dYUivwBMeJSX"
      },
      "source": [
        "# Analysis"
      ]
    },
    {
      "cell_type": "code",
      "metadata": {
        "colab": {
          "base_uri": "https://localhost:8080/"
        },
        "id": "Ezq6o7V1jk7K",
        "outputId": "f990ed43-8e94-465b-b262-a3c08621e3a2"
      },
      "source": [
        "df.mail_length.describe()"
      ],
      "execution_count": 6,
      "outputs": [
        {
          "output_type": "execute_result",
          "data": {
            "text/plain": [
              "count    5294.000000\n",
              "mean      172.997167\n",
              "std       390.111618\n",
              "min         0.000000\n",
              "25%        47.000000\n",
              "50%        88.000000\n",
              "75%       157.000000\n",
              "max      8527.000000\n",
              "Name: mail_length, dtype: float64"
            ]
          },
          "metadata": {
            "tags": []
          },
          "execution_count": 6
        }
      ]
    },
    {
      "cell_type": "code",
      "metadata": {
        "colab": {
          "base_uri": "https://localhost:8080/",
          "height": 0
        },
        "id": "-Ua_TUbIZ1uY",
        "outputId": "480d0ed8-e135-4bb3-8b73-7b629e842e61"
      },
      "source": [
        "_ = plt.figure(figsize=(15,5))\n",
        "_ = sns.histplot(data=df[df['mail_length'] < 1000],x='mail_length',hue='Spam')\n",
        "_ = plt.title('Spam vs Ham words count')"
      ],
      "execution_count": 7,
      "outputs": [
        {
          "output_type": "display_data",
          "data": {
            "image/png": "[encoded data removed]",
            "text/plain": [
              "<Figure size 1080x360 with 1 Axes>"
            ]
          },
          "metadata": {
            "tags": [],
            "needs_background": "light"
          }
        }
      ]
    },
    {
      "cell_type": "code",
      "metadata": {
        "colab": {
          "base_uri": "https://localhost:8080/",
          "height": 0
        },
        "id": "Jen3mQtwddTd",
        "outputId": "ee32625d-1d4e-47d0-c0ba-77949af82796"
      },
      "source": [
        "_ = plt.figure(figsize=(15,5))\n",
        "_ = sns.catplot(x=\"Spam\", y=\"mail_length\", data=df[df['mail_length'] < 1000])\n",
        "_ = plt.title('Spam vs Ham words count')"
      ],
      "execution_count": 8,
      "outputs": [
        {
          "output_type": "display_data",
          "data": {
            "text/plain": [
              "<Figure size 1080x360 with 0 Axes>"
            ]
          },
          "metadata": {
            "tags": []
          }
        },
        {
          "output_type": "display_data",
          "data": {
            "image/png": "[encoded data removed]",
            "text/plain": [
              "<Figure size 360x360 with 1 Axes>"
            ]
          },
          "metadata": {
            "tags": [],
            "needs_background": "light"
          }
        }
      ]
    },
    {
      "cell_type": "markdown",
      "metadata": {
        "id": "bUGogVZ_iIhT"
      },
      "source": [
        "# Feature Extraction"
      ]
    },
    {
      "cell_type": "code",
      "metadata": {
        "id": "rEdf2v5GM_o-"
      },
      "source": [
        "# Get BOW matrix for data\n",
        "my_vocab = Vocabulary(MAX_VOCAB_SIZE)\n",
        "my_vocab.create_bag_of_words_matrix(df)\n",
        "\n",
        "bow_matrix = pd.DataFrame(np.zeros((len(df),len(my_vocab.unique_words))),columns=list(my_vocab.unique_words.keys()))\n",
        "for index,sentence in enumerate(df['Body']):\n",
        "  cols,values = my_vocab.get_row(index)\n",
        "  bow_matrix.iloc[index][cols] = values"
      ],
      "execution_count": 9,
      "outputs": []
    },
    {
      "cell_type": "markdown",
      "metadata": {
        "id": "pPDebh9vWpFw"
      },
      "source": [
        "# Modelling IMPLEMENTED"
      ]
    },
    {
      "cell_type": "code",
      "metadata": {
        "id": "udD_gFB2uT00"
      },
      "source": [
        "X_train, X_test, y_train, y_test = train_test_split(bow_matrix.values, df['Spam'].values, test_size=0.2, random_state=421)"
      ],
      "execution_count": 10,
      "outputs": []
    },
    {
      "cell_type": "code",
      "metadata": {
        "id": "6Z6sOFZhSaDF"
      },
      "source": [
        "clf = MNB()\n",
        "clf.fit(X_train,y_train)\n",
        "y_pred = clf.predict(X_test)"
      ],
      "execution_count": 11,
      "outputs": []
    },
    {
      "cell_type": "markdown",
      "metadata": {
        "id": "csNFJkWMp0OC"
      },
      "source": [
        "# Result Analysis"
      ]
    },
    {
      "cell_type": "code",
      "metadata": {
        "colab": {
          "base_uri": "https://localhost:8080/"
        },
        "id": "jVHN0gu8p3ax",
        "outputId": "4c65d378-fb46-4896-b5d7-249c5ee8c5d8"
      },
      "source": [
        "analyze_result(y_pred,y_test)"
      ],
      "execution_count": 12,
      "outputs": [
        {
          "output_type": "stream",
          "text": [
            "Accuary: 98.21%\n",
            "Precision: 98.80%\n",
            "Recall: 93.92%\n",
            "F1 Score: 96.30%\n"
          ],
          "name": "stdout"
        }
      ]
    },
    {
      "cell_type": "code",
      "metadata": {
        "colab": {
          "base_uri": "https://localhost:8080/",
          "height": 301
        },
        "id": "ppCLnVpoqgyz",
        "outputId": "734da6be-5c71-4c39-b3ed-43f58ef71121"
      },
      "source": [
        "plot_cunfusion_matrix(y_pred,y_test)"
      ],
      "execution_count": 13,
      "outputs": [
        {
          "output_type": "display_data",
          "data": {
            "image/png": "[encoded data removed]",
            "text/plain": [
              "<Figure size 432x288 with 2 Axes>"
            ]
          },
          "metadata": {
            "tags": [],
            "needs_background": "light"
          }
        }
      ]
    },
    {
      "cell_type": "markdown",
      "metadata": {
        "id": "rFuwDRAg_JaT"
      },
      "source": [
        "# Non-implemented models (for embedding and tfidf)"
      ]
    },
    {
      "cell_type": "code",
      "metadata": {
        "id": "0Z4KGWJ1MKwW"
      },
      "source": [
        "from sklearn.decomposition import PCA\n",
        "pca = PCA(n_components=EMBEDDING_DIM, svd_solver='full')\n",
        "X_seq = pca.fit_transform(my_vocab.tfidf_matrix, y=None)\n",
        "X_seq.shape"
      ],
      "execution_count": null,
      "outputs": []
    },
    {
      "cell_type": "code",
      "metadata": {
        "colab": {
          "base_uri": "https://localhost:8080/"
        },
        "id": "H7UWH4Mt7Qkj",
        "outputId": "e71232d7-7d47-46d9-c9f4-41d105045f3e"
      },
      "source": [
        "np.mean(my_vocab.tfidf_matrix,axis=0)"
      ],
      "execution_count": null,
      "outputs": [
        {
          "output_type": "execute_result",
          "data": {
            "text/plain": [
              "array([0.00037779, 0.00075557, 0.00468984, ..., 0.00207782, 0.00037779,\n",
              "       0.00037779])"
            ]
          },
          "metadata": {
            "tags": []
          },
          "execution_count": 31
        }
      ]
    },
    {
      "cell_type": "code",
      "metadata": {
        "colab": {
          "base_uri": "https://localhost:8080/"
        },
        "id": "D8-WoovMjMu0",
        "outputId": "4893b581-7649-44f3-fc1c-d589aa378e30"
      },
      "source": [
        "from sklearn.ensemble import AdaBoostClassifier\n",
        "clf = AdaBoostClassifier(n_estimators=100, random_state=0)\n",
        "clf.fit(X_train,y_train)\n",
        "np.sum(clf.predict(X_test) == y_test) / len(y_test)"
      ],
      "execution_count": null,
      "outputs": [
        {
          "output_type": "execute_result",
          "data": {
            "text/plain": [
              "0.9641170915958451"
            ]
          },
          "metadata": {
            "tags": []
          },
          "execution_count": 39
        }
      ]
    },
    {
      "cell_type": "code",
      "metadata": {
        "colab": {
          "base_uri": "https://localhost:8080/"
        },
        "id": "2YMGVk-dESQ-",
        "outputId": "3c053b99-d547-4f30-d242-e59d068dbcd6"
      },
      "source": [
        "from sklearn.naive_bayes import GaussianNB\n",
        "clf = GaussianNB()\n",
        "clf.fit(X_train,y_train)\n",
        "np.sum(clf.predict(X_test) == y_test) / len(y_test)"
      ],
      "execution_count": null,
      "outputs": [
        {
          "output_type": "execute_result",
          "data": {
            "text/plain": [
              "0.816933638443936"
            ]
          },
          "metadata": {
            "tags": []
          },
          "execution_count": 94
        }
      ]
    },
    {
      "cell_type": "code",
      "metadata": {
        "id": "yWcF1rjg6naw",
        "colab": {
          "base_uri": "https://localhost:8080/"
        },
        "outputId": "13f376f3-243e-45fc-bd49-a86caf71d6f9"
      },
      "source": [
        "from sklearn.svm import SVC\n",
        "clf = SVC(C=5.0,probability=True)\n",
        "clf.fit(X_train,y_train)\n",
        "np.sum(clf.predict(X_test) == y_test) / len(y_test)"
      ],
      "execution_count": null,
      "outputs": [
        {
          "output_type": "execute_result",
          "data": {
            "text/plain": [
              "0.9628146453089245"
            ]
          },
          "metadata": {
            "tags": []
          },
          "execution_count": 95
        }
      ]
    },
    {
      "cell_type": "code",
      "metadata": {
        "id": "zehUgKC07o4v",
        "colab": {
          "base_uri": "https://localhost:8080/"
        },
        "outputId": "9ba3215e-1e46-4a68-e46b-969a90329d11"
      },
      "source": [
        "from sklearn.ensemble import RandomForestClassifier\n",
        "clf = RandomForestClassifier()\n",
        "clf.fit(X_train,y_train)\n",
        "np.sum(clf.predict(X_test) == y_test) / len(y_test)"
      ],
      "execution_count": null,
      "outputs": [
        {
          "output_type": "execute_result",
          "data": {
            "text/plain": [
              "0.9726156751652503"
            ]
          },
          "metadata": {
            "tags": []
          },
          "execution_count": 52
        }
      ]
    },
    {
      "cell_type": "code",
      "metadata": {
        "id": "wLWsRipH9YVS",
        "colab": {
          "base_uri": "https://localhost:8080/"
        },
        "outputId": "9e57c41f-5a3d-4e62-8e07-3aa66c42dfd0"
      },
      "source": [
        "from sklearn.neighbors import KNeighborsClassifier\n",
        "clf = KNeighborsClassifier()\n",
        "clf.fit(X_train,y_train)\n",
        "np.sum(clf.predict(X_test) == y_test) / len(y_test)"
      ],
      "execution_count": null,
      "outputs": [
        {
          "output_type": "execute_result",
          "data": {
            "text/plain": [
              "0.7714825306893296"
            ]
          },
          "metadata": {
            "tags": []
          },
          "execution_count": 54
        }
      ]
    },
    {
      "cell_type": "code",
      "metadata": {
        "id": "Iu47NFvcVcNM"
      },
      "source": [
        "model = Sequential()\n",
        "model.add(Dense(50, input_dim=EMBEDDING_DIM, activation='relu'))\n",
        "model.add(Dense(100, activation='relu'))\n",
        "model.add(Dropout(0.3))\n",
        "#model.add(Dense(100, activation='relu'))\n",
        "#model.add(Dense(100, activation='relu'))\n",
        "model.add(Dense(1, activation='sigmoid'))\n",
        "model.compile(loss='binary_crossentropy', optimizer='adam', metrics=['accuracy'])"
      ],
      "execution_count": null,
      "outputs": []
    },
    {
      "cell_type": "code",
      "metadata": {
        "id": "yoOy0fQVVu-N"
      },
      "source": [
        "model.fit(X_train, y_train, epochs=30, batch_size=127,validation_data=(X_test,y_test))"
      ],
      "execution_count": null,
      "outputs": []
    },
    {
      "cell_type": "code",
      "metadata": {
        "id": "dHcJTXhRSn8x"
      },
      "source": [
        "y_predict = clf.predict(X_test)"
      ],
      "execution_count": null,
      "outputs": []
    },
    {
      "cell_type": "markdown",
      "metadata": {
        "id": "q5yw46pI-h-O"
      },
      "source": [
        "# SUB-IMPLEMENTED (NOT COMPLETE)\n",
        "\n"
      ]
    },
    {
      "cell_type": "code",
      "metadata": {
        "id": "lqK7JrqymbjL"
      },
      "source": [
        "def prepare_data(df,X,length_col,vocab):\n",
        "  # (1) Encoding words\n",
        "  df[X] = df[X].apply(lambda sentence: [vocab[word] for word in sentence])\n",
        "\n",
        "  # (2) Padding/Truncating rows\n",
        "  length_stats = df[length_col].describe()\n",
        "  common_length = length_stats.loc['75%']\n",
        "  max_length = length_stats.loc['max']\n",
        "  picked_length = int( max_length if common_length / max_length >= 0.5 else common_length)\n",
        "\n",
        "  df[X] = df[X].apply(lambda sentence: sentence + [0]*(picked_length-len(sentence)) if len(sentence) < common_length else sentence[:picked_length])"
      ],
      "execution_count": null,
      "outputs": []
    },
    {
      "cell_type": "markdown",
      "metadata": {
        "id": "s5YmLzHJT-Oy"
      },
      "source": [
        "**LSTM:** Long Short-Term Memory\n",
        "\n",
        "\n",
        "*   Learns when to remember and when to forget\n",
        "*   Anatomy:\n",
        "\n",
        "  -  A cell state\n",
        "  -  A hidden state with three gates: Forget, input and output\n",
        "  -  Loops back again at the end of each time step after\n",
        "updating the states.\n",
        "\n",
        "\n",
        "\n",
        "\n",
        "\n",
        "*   Forget gate: Decides what to keep.\n",
        "*   Input gate: Decides what to add.\n",
        "*   Output gate: Decides what the next hidden state\n"
      ]
    },
    {
      "cell_type": "code",
      "metadata": {
        "id": "QUJgb1OdLxa9"
      },
      "source": [
        "def lstm_weight_init(shape):\n",
        "  \"\"\"\n",
        "    Sources \n",
        "    ----------\n",
        "      https://arxiv.org/abs/1312.6120\n",
        "    Description\n",
        "    -----------\n",
        "      Initialze LSTM wights\n",
        "\n",
        "    Parameters\n",
        "    ----------\n",
        "    Returns\n",
        "    -------\n",
        "    \"\"\"\n",
        "  if W.ndim != 2:\n",
        "    raise ValueError(\"Initialaiztion is only allowed for ndim=2\")\n",
        "\n",
        "  Wo = np.random.randn(shape[0],shape[1])\n",
        "  Wo = Wo if shape[0] >= shape[1] else Wo.T\n",
        "\n",
        "  q,r = np.linalg.qr(Wo)\n",
        "  q *= np.sign(np.diag(r,0))\n",
        "  Wo = q if shape[0] >= shape[1] else q.T\n",
        "\n",
        "  return Wo"
      ],
      "execution_count": null,
      "outputs": []
    },
    {
      "cell_type": "code",
      "metadata": {
        "id": "8YqPJWBnWbDD"
      },
      "source": [
        "def nn_weight_init(shape):\n",
        "  \n",
        "  if W.ndim != 2:\n",
        "    raise ValueError(\"Initialaiztion is only allowed for ndim=2\")\n",
        "  \n",
        "  Wo = np.random.randn(shape[0], shape[1]) / np.sqrt(shape[1])\n",
        "\n",
        "  return Wo"
      ],
      "execution_count": null,
      "outputs": []
    },
    {
      "cell_type": "code",
      "metadata": {
        "id": "s7itkKv1Wdbf"
      },
      "source": [
        "def segmoid(X):\n",
        "  return 1/(1+np.exp(-X))\n",
        "\n",
        "def segmoid_(X):\n",
        "  Z = segmoid(X)\n",
        "  return Z * (1-Z) \n",
        "\n",
        "def tanh(X):\n",
        "  return (np.exp(X+DELTA)-np.exp(-(X+DELTA)))/(np.exp((X+DELTA))+np.exp(-(X+DELTA)))\n",
        "\n",
        "def tanh_(X):\n",
        "  return 1-np.power(tanh(X),2)\n",
        "\n",
        "def softmax(X):\n",
        "  e_X = np.exp(X)\n",
        "  e_X_total = np.sum(e_X,axis=1).reshape(-1,1)\n",
        "  return e_X / e_X_total\n",
        "\n",
        "def softmax_(X):\n",
        "  return X # No need for softmax derivative\n",
        "\n",
        "def relu(X):\n",
        "  return np.maximum(X,0)\n",
        "\n",
        "def relu_(X):\n",
        "  return (X > 0).astype(int)\n",
        "\n",
        "def cross_entropy(y_,y):\n",
        "  return -np.mean(np.log(y_) * y)\n",
        "\n",
        "def binray_cross_enrtopy(y_,y):\n",
        "  return -1*(y * np.log(y_) + (1-y) np.log(1-y_))\n",
        "\n",
        "def binray_cross_enrtopy_(y_,y):\n",
        "  return (y_ - y) / (y_ * (1-y_))"
      ],
      "execution_count": null,
      "outputs": []
    },
    {
      "cell_type": "code",
      "metadata": {
        "id": "YAJziGFM4zlo"
      },
      "source": [
        "class LSTM:\n",
        "\n",
        "  def __init__(self,units,input_size,initializer=lstm_weight_init):\n",
        "    \"\"\"\n",
        "    Description\n",
        "    -----------\n",
        "      Initialze LSTM parameters\n",
        "\n",
        "    Parameters\n",
        "    ----------\n",
        "      units: int \n",
        "        Size of hidden-state\n",
        "\n",
        "      vocab_size: int\n",
        "        Size of corpus vocab\n",
        "\n",
        "      input_size: int\n",
        "        Size of input vector\n",
        "    \"\"\"\n",
        "    # Storing size\n",
        "    self.units = units\n",
        "    self.input_size = input_size\n",
        "\n",
        "    # Forget paramaters\n",
        "    self.Wf = initializer((units,input_size+units))\n",
        "    self.bf = np.zeros((units,1))\n",
        "\n",
        "    # Input paramaters\n",
        "    self.Wi = initializer((units,input_size+units))\n",
        "    self.bi = np.zeros((units,1))\n",
        "\n",
        "    # Candidate paramaters\n",
        "    self.Wg = initializer((units,input_size+units))\n",
        "    self.bg = np.zeros((units,1))\n",
        "\n",
        "    # Output paramaters\n",
        "    self.Wo = initializer((units,input_size+units))\n",
        "    self.bo = np.zeros((units,1))\n",
        "\n",
        "    # Predection paramaters\n",
        "    self.Wp = initializer((input_size,units))\n",
        "    self.bp = np.zeros((input_size,1))\n",
        "\n",
        "    \n",
        "\n",
        "    # Computations storage\n",
        "    self.z,self.f,self.i, ,self.p,self.g,self.o,self.h,self.c,self.p   = [],[],[],[],[],[],[],[],[]\n",
        "    self.Wf_d,self.Wi_d,self.Wg_d,self.Wo_d,self.Wp_d = np.zeros_like(Wf),np.zeros_like(Wi),np.zeros_like(Wg),np.zeros_like(Wo),np.zeros_like(Wp)\n",
        "    self.bf_d,self.bi_d,self.bg_d,self.bo_d,self.bp_d = np.zeros_like(bf),np.zeros_like(bi),np.zeros_like(bg),np.zeros_like(bo),np.zeros_like(bp)\n",
        "   \n",
        "    # Losses\n",
        "    self.loss = cross_entropy\n",
        "    self.train_loss, self.val_loss = [],[]\n",
        "    \n",
        "  def clip_grad_norm(self,max_norm=0.25):\n",
        "\n",
        "    max_norm = float(max_norm) if type(max_norm) != type(0.25) else max_norm #Casting to float\n",
        "    total_norm = 0\n",
        "\n",
        "    for grad in [self.Wf_d,self.Wi_d,self.Wg_d,self.Wo_d,self.Wp_d,self.bf_d,self.bi_d,self.bg_d,self.bo_d,self.bp_d]:\n",
        "      total_norm += np.sum(np.power(grad,2))\n",
        "    \n",
        "    total_norm = np.sqrt(total_norm)\n",
        "\n",
        "    cc = max_norm / (total_norm + BETA)\n",
        "    if cc < 1:\n",
        "      self.Wf_d,self.Wi_d,self.Wg_d,self.Wo_d,self.Wp_d,self.bf_d,self.bi_d,self.bg_d,self.bo_d,self.bp_d = self.Wf_d + cc,self.Wi_d + cc,self.Wg_d + cc,self.Wo_d + cc,self.Wp_d + cc,self.bf_d + cc,self.bi_d + cc,self.bg_d + cc,self.bo_d + cc,self.bp_d + cc\n",
        "\n",
        "\n",
        "  def update(self,alpha):\n",
        "    self.Wf,self.Wi,self.Wg,self.Wo,self.Wp =  Wf - alpha * self.Wf_d, Wi - alpha * self.Wi_d, Wg - alpha * self.Wg_d, Wo - alpha * self.Wo_d, Wp - alpha * self.Wp_d\n",
        "    self.bf,self.bi,self.bg,self.bo,self.bp =  bf - alpha * self.bf_d, bi - alpha * self.bi_d, bg - alpha * self.bg_d, bo - alpha * self.bo_d, bp - alpha * self.bp_d\n",
        "\n",
        "  def forward_pass(x,h_init,c_init):\n",
        "    \n",
        "    self.z,self.f,self.i,self.o,self.g,self.c,self.h,self.p = [],[],[],[],[],[],[],[]\n",
        "\n",
        "\n",
        "    self.h.append(h_init)\n",
        "    self.c.append(c_init)\n",
        "\n",
        "    h_i = h_init\n",
        "    c_i = c_init\n",
        "\n",
        "    for row in x:\n",
        "\n",
        "      # Input & hindden state concatenating \n",
        "      z_i = np.row_stack((h_i,row))\n",
        "      self.z.append(z_i)\n",
        "\n",
        "      # Forget gate \n",
        "      f_i = segmoid(np.dot(self.Wf,z_i)+self.bf)\n",
        "      self.f.append(f_i)\n",
        "\n",
        "      # Input gate\n",
        "      i_i = segmoid(np.dot(self.Wi,z_i)+self.bi)\n",
        "      self.i.append(i_i)\n",
        "\n",
        "      # Output gate \n",
        "      o_i = segmoid(np.dot(self.Wo,z_i)+self.bo)\n",
        "      self.o.append(o_i)\n",
        "\n",
        "      # Candidate\n",
        "      g_i = tanh(np.dot(self.Wg,z_i) + self.bg)\n",
        "      self.g.append(g_i)\n",
        "\n",
        "      # Memory state\n",
        "      c_i = c_i * f_i + g_i * o_i\n",
        "      self.c.append(c_i)\n",
        "\n",
        "      # Hidden state\n",
        "      h_i = o_i * tanh(c_i)\n",
        "      self.h.append(h_i)\n",
        "\n",
        "      # Prediction\n",
        "      p_i = softmax(np.dot(Wp,h_i) + bp)\n",
        "      self.p.append(p_i)\n",
        "\n",
        "\n",
        "  def backward_pass(self,y):\n",
        "\n",
        "    # Forget paramaters\n",
        "    self.Wf_d = np.zeros_like(self.Wf)\n",
        "    self.bf_d = np.zeros_like(self.bf)\n",
        "\n",
        "    # Input paramaters\n",
        "    self.Wi_d = np.zeros_like(self.Wi)\n",
        "    self.bi_d = np.zeros_like(self.bi)\n",
        "\n",
        "    # Candidate paramaters\n",
        "    self.Wg_d = np.zeros_like(self.Wg)\n",
        "    self.bg_d = np.zeros_like(self.bg)\n",
        "\n",
        "    # Output paramaters\n",
        "    self.Wo_d = np.zeros_like(self.Wo)\n",
        "    self.bo_d = np.zeros_like(self.bo)\n",
        "\n",
        "    # Predection paramaters\n",
        "    self.Wp_d = np.zeros_like(self.Wp)\n",
        "    self.bp_d = np.zeros_like(self.bp)\n",
        "\n",
        "    # Hidden and cell state\n",
        "    h_init_d = np.zeros_like(self.h[0])\n",
        "    c_init_d = np.zeros_like(self.c[0])\n",
        "\n",
        "    #Loss function init\n",
        "    J = 0\n",
        "\n",
        "    for t in reversed(range(len(self.p))):\n",
        "\n",
        "      # Get current Loss\n",
        "      J += self.loss(self.p[t] * y[t])\n",
        "\n",
        "      # Output & hidden grads,weights and derivatives\n",
        "      dp = self.p[t][np.argmax(y[t])] - 1\n",
        "\n",
        "      self.Wp_d += np.dot(dp,self.h[t].T)\n",
        "      self.bp_d += dp\n",
        "\n",
        "      h_d = np.dot(Wp.T,dp) + h_init_d\n",
        "      o_d = segmoid_(self.o[t]) * h_d * tanh(self.c[t])\n",
        "\n",
        "      self.Wo_d += np.dot(o_d,self.z[t].T)\n",
        "      self.bo_d += o_d\n",
        "\n",
        "      # Cell state & candidate grads,weights and derivatives\n",
        "      c_d =  c_init_d + (h_d * self.o[t] * tanh_(tanh(self.c[t])))\n",
        "      g_d =  tanh_(self.g[t]) * c_d * self.i[t] \n",
        "\n",
        "      self.Wg_d += np.dot(g_d, self.z[t].T)\n",
        "      self.bg_d += g_d\n",
        "\n",
        "      # Input gate grads,weights and derivatives\n",
        "      i_d =  segmoid_(self.i[t]) * c_d * self.g[t]\n",
        "\n",
        "      self.Wi_d += np.dot(i_d, self.z[t].T)\n",
        "      self.bi_d += i_d\n",
        "\n",
        "      # Forget grads,weights and derivatives\n",
        "      f_d = segmoid(self.f[t]) * c_d * self.c[t-1] \n",
        "      \n",
        "      self.Wf_d += np.dot(f_d,self.z[t].T)\n",
        "      self.bf_d += f_d\n",
        "\n",
        "      # To solve exploding gradients problem\n",
        "      self.clip_grad_norm()\n",
        "\n",
        "      # Update weights\n",
        "      self.update(alpha=1e-1)\n",
        "\n",
        "    return J\n",
        "\n",
        "\n",
        "  def backward_pass_mid(self,dz_next,W_next):\n",
        "\n",
        "    # Forget paramaters\n",
        "    self.Wf_d = np.zeros_like(self.Wf)\n",
        "    self.bf_d = np.zeros_like(self.bf)\n",
        "\n",
        "    # Input paramaters\n",
        "    self.Wi_d = np.zeros_like(self.Wi)\n",
        "    self.bi_d = np.zeros_like(self.bi)\n",
        "\n",
        "    # Candidate paramaters\n",
        "    self.Wg_d = np.zeros_like(self.Wg)\n",
        "    self.bg_d = np.zeros_like(self.bg)\n",
        "\n",
        "    # Output paramaters\n",
        "    self.Wo_d = np.zeros_like(self.Wo)\n",
        "    self.bo_d = np.zeros_like(self.bo)\n",
        "\n",
        "    # Predection paramaters\n",
        "    self.Wp_d = np.zeros_like(self.Wp)\n",
        "    self.bp_d = np.zeros_like(self.bp)\n",
        "\n",
        "    # Hidden and cell state\n",
        "    h_init_d = np.zeros_like(self.h[0])\n",
        "    c_init_d = np.zeros_like(self.c[0])\n",
        "\n",
        "    for t in reversed(range(len(self.p))):\n",
        "\n",
        "      dp = (dz_next @ W_next).T\n",
        "\n",
        "      self.Wp_d += np.dot(dp,self.h[t].T)\n",
        "      self.bp_d += dp\n",
        "\n",
        "      h_d = np.dot(Wp.T,dp) + h_init_d\n",
        "      o_d = segmoid_(self.o[t]) * h_d * tanh(self.c[t])\n",
        "\n",
        "      self.Wo_d += np.dot(o_d,self.z[t].T)\n",
        "      self.bo_d += o_d\n",
        "\n",
        "      # Cell state & candidate grads,weights and derivatives\n",
        "      c_d =  c_init_d + (h_d * self.o[t] * tanh_(tanh(self.c[t])))\n",
        "      g_d =  tanh_(self.g[t]) * c_d * self.i[t] \n",
        "\n",
        "      self.Wg_d += np.dot(g_d, self.z[t].T)\n",
        "      self.bg_d += g_d\n",
        "\n",
        "      # Input gate grads,weights and derivatives\n",
        "      i_d =  segmoid_(self.i[t]) * c_d * self.g[t]\n",
        "\n",
        "      self.Wi_d += np.dot(i_d, self.z[t].T)\n",
        "      self.bi_d += i_d\n",
        "\n",
        "      # Forget grads,weights and derivatives\n",
        "      f_d = segmoid(self.f[t]) * c_d * self.c[t-1] \n",
        "      \n",
        "      self.Wf_d += np.dot(f_d,self.z[t].T)\n",
        "      self.bf_d += f_d\n",
        "\n",
        "      # To solve exploding gradients problem\n",
        "      self.clip_grad_norm()\n",
        "\n",
        "      # Update weights\n",
        "      self.update(alpha=1e-1)\n",
        "\n",
        "\n",
        "\n",
        "\n",
        "\n",
        "\n",
        "  def fit(self,X_train,y_train,X_val,y_val,epochs,alpha=0.001,logs=True):\n",
        "\n",
        "    for epoch in epochs:\n",
        "\n",
        "      # Epoch losees\n",
        "      epoch_val_loss = 0\n",
        "      epoch_train_loss = 0\n",
        "\n",
        "      # Validation data\n",
        "      for x,y in zip(X_val,y_val):\n",
        "        \n",
        "        h_init = np.zeros((self.units, 1))\n",
        "        c_init = np.zeros((self.units, 1))\n",
        "\n",
        "        self.forward_pass(x,h_init,c_init)\n",
        "        epoch_val_loss += self.backward_pass(y)\n",
        "\n",
        "      # Training data\n",
        "      for x,y in zip(X_train,y_train):\n",
        "\n",
        "        h_init = np.zeros((self.units, 1))\n",
        "        c_init = np.zeros((self.units, 1))\n",
        "\n",
        "        self.forward_pass(x,h_init,c_init)\n",
        "        epoch_train_loss += self.backward_pass(y)\n",
        "\n",
        "        \n",
        "\n",
        "      self.val_loss.append(epoch_val_loss/len(X_val))\n",
        "      self.train_loss.append(epoch_train_loss/len(X_train))\n",
        "      \n",
        "      if logs:\n",
        "        print(f'Epoch {epoch}/{epochs}: loss: {self.train_loss[-1]},  val_loss: {self.train_loss[-1]}')\n",
        "\n"
      ],
      "execution_count": null,
      "outputs": []
    },
    {
      "cell_type": "code",
      "metadata": {
        "id": "yv3YxJq-4zdm"
      },
      "source": [
        "class Dense:\n",
        "  \n",
        "  def __init__(self,units,input_size,m,activation='relu',initializer=nn_weight_init):\n",
        "\n",
        "    # Storing size\n",
        "    self.units = units\n",
        "    self.input_size = input_size\n",
        "    self.m = m\n",
        "\n",
        "    # Weight initialize\n",
        "    self.W = initializer(units,input_size)\n",
        "    self.b = np.zeros((units,1))\n",
        "\n",
        "    # Grads initialize\n",
        "    self.DW = 0\n",
        "    self.Db = 0\n",
        "\n",
        "    # Activation function\n",
        "    self.activation = relu\n",
        "    self.activation_ = relu_\n",
        "\n",
        "    # Loss function\n",
        "    self.loss = lambda x: x\n",
        "    self.loss_ = lambda x: x\n",
        "    # Calculating store\n",
        "    self.a = []\n",
        "    self.dz_mem = []\n",
        "\n",
        "\n",
        "  def update(self,alpha):\n",
        "    self.W -= alpha * self.DW\n",
        "    self.b -= alpha * self.db\n",
        "\n",
        "  def forward_pass(x):\n",
        "\n",
        "    for ao in x:\n",
        "\n",
        "      Z = W @ ao + b\n",
        "      a1 = self.activation(Z)\n",
        "      self.a.append(a1)\n",
        "  \n",
        "  def backward_pass(self,a_prev,y):\n",
        "\n",
        "    J = 0\n",
        "    for i in range(self.m):\n",
        "      \n",
        "      J += self.loss(self.a[i],y[i])\n",
        "\n",
        "      da = self.loss_(self.a[i])\n",
        "      dz = da * self.activation_(self.a[i])\n",
        "      self.dz_mem.append(dz)\n",
        "      dW = dz @ a_prev[i].T\n",
        "      db = dz\n",
        "\n",
        "      self.DW += dw\n",
        "      self.Db += db \n",
        "\n",
        "    \n",
        "    self.DW /= len(self.a)\n",
        "    self.Db /= len(self.a)\n",
        "    J /= len(self.a)\n",
        "\n",
        "    return J\n",
        "\n",
        "  def backward_pass_mid(self,a_prev,dz_next,W_next):\n",
        "\n",
        "    for i in range(self.m):\n",
        "\n",
        "      da = (dz_next[i] @ W_next).T\n",
        "      dz = da * self.activation_(self.a[i])\n",
        "      self.dz_mem.append(dz)\n",
        "      dW = dz @ a_prev.T\n",
        "      db = dz\n",
        "\n",
        "      self.DW += dw\n",
        "      self.Db += db \n",
        "    \n",
        "    self.DW /= len(self.a)\n",
        "    self.Db /= len(self.a)\n",
        "\n",
        "      "
      ],
      "execution_count": null,
      "outputs": []
    },
    {
      "cell_type": "code",
      "metadata": {
        "colab": {
          "base_uri": "https://localhost:8080/"
        },
        "id": "I-8kF6PqN54A",
        "outputId": "dce96fe2-1417-4841-d68a-09f6b14b52c1"
      },
      "source": [
        "model = tf.keras.Sequential()\n",
        "\n",
        "model.add(Embedding(name=\"synopsis_embedd\",input_dim =len(my_vocab), \n",
        "                       output_dim=EMBEDDING_DIM,weights=[my_vocab.embedding_matrix], \n",
        "                       input_length=X_seq.shape[1],trainable=False))\n",
        "\n",
        "#model.add(Bidirectional(tf.keras.layers.LSTM(64)))\n",
        "\n",
        "#model.add(Dense(16, activation='relu'))\n",
        "\n",
        "#model.add(Dropout(0.1))\n",
        "\n",
        "#model.add(Dense(1, activation='sigmoid'))\n",
        "\n",
        "model.compile(loss='binary_crossentropy', optimizer='adam', metrics=['accuracy'])\n",
        "\n",
        "model.summary()"
      ],
      "execution_count": null,
      "outputs": [
        {
          "output_type": "stream",
          "text": [
            "Model: \"sequential_2\"\n",
            "_________________________________________________________________\n",
            "Layer (type)                 Output Shape              Param #   \n",
            "=================================================================\n",
            "synopsis_embedd (Embedding)  (None, 157, 100)          4706200   \n",
            "_________________________________________________________________\n",
            "bidirectional_1 (Bidirection (None, 128)               84480     \n",
            "_________________________________________________________________\n",
            "dense_4 (Dense)              (None, 16)                2064      \n",
            "_________________________________________________________________\n",
            "dropout_2 (Dropout)          (None, 16)                0         \n",
            "_________________________________________________________________\n",
            "dense_5 (Dense)              (None, 1)                 17        \n",
            "=================================================================\n",
            "Total params: 4,792,761\n",
            "Trainable params: 86,561\n",
            "Non-trainable params: 4,706,200\n",
            "_________________________________________________________________\n"
          ],
          "name": "stdout"
        }
      ]
    },
    {
      "cell_type": "code",
      "metadata": {
        "id": "n2Q7Gjb5-KdK"
      },
      "source": [
        "model = tf.keras.Sequential()\n",
        "\n",
        "model.add(Embedding(name=\"synopsis_embedd\",input_dim =len(my_vocab), \n",
        "                       output_dim=EMBEDDING_DIM,weights=[my_vocab.embedding_matrix], \n",
        "                       input_length=X_seq.shape[1],trainable=False))\n",
        "\n",
        "model.compile('rmsprop', 'mse')\n",
        "\n"
      ],
      "execution_count": null,
      "outputs": []
    }
  ]
}